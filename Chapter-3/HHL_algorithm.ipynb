{
 "cells": [
  {
   "cell_type": "code",
   "execution_count": 1,
   "id": "b9ab9a95",
   "metadata": {},
   "outputs": [
    {
     "name": "stdout",
     "output_type": "stream",
     "text": [
      "eigen values= [1 2 3 4]\n",
      "A= [[ 2.11736898 -0.93114402 -0.5907143  -0.51462984]\n",
      " [-0.93114402  1.97970616  0.12573883  0.20790849]\n",
      " [-0.5907143   0.12573883  2.21400889 -0.06273126]\n",
      " [-0.51462984  0.20790849 -0.06273126  3.68891598]]\n",
      "b= [0.32085204 0.67897001 0.07575555 0.65598383]\n"
     ]
    },
    {
     "data": {
      "image/png": "[encoded data removed]",
      "text/plain": [
       "<Figure size 432x288 with 2 Axes>"
      ]
     },
     "metadata": {
      "needs_background": "light"
     },
     "output_type": "display_data"
    }
   ],
   "source": [
    "# 3.3.2 HHL algorithm\n",
    "import numpy as np\n",
    "from qiskit import *\n",
    "%matplotlib inline\n",
    "from qiskit.visualization import plot_state_city\n",
    "from qiskit.visualization import plot_histogram\n",
    "from qiskit.circuit.library import PhaseEstimation\n",
    "from qiskit.circuit.library import RYGate\n",
    "from qiskit.tools.jupyter.library import _generate_circuit_library_visualization\n",
    "from math import pi\n",
    "from scipy.linalg import expm\n",
    "\n",
    "# Solve Ax=b\n",
    "# setup matrix A and right-hand-side b\n",
    "# A is a random (2**n)x(2**n) real matrix with eigenvalues [1,2,...,2**n] \n",
    "# b is a random normalized real (2**n)-vector\n",
    "\n",
    "n=2 # vector dimension is 2**n. \n",
    "t=3 # number of digits for eigenvalue representation. n<t.\n",
    "\n",
    "eigens=np.arange(1,2**n+1)\n",
    "print('eigen values=',eigens)\n",
    "A=np.random.rand(2**n,2**n)\n",
    "(Q,R)=np.linalg.qr(A)\n",
    "A=np.matmul(Q,np.matmul(np.diag(eigens),Q.T))\n",
    "\n",
    "b=np.random.rand(2**n)-0.5\n",
    "b=b/np.linalg.norm(b)\n",
    "\n",
    "print('A=',A)\n",
    "print('b=',b)\n",
    "\n",
    "scale=2**t\n",
    "expA=expm(pi*2j*A/scale)\n",
    "\n",
    "# generate and check the QPE part of the circuit\n",
    "unitary = QuantumCircuit(n)\n",
    "unitary.unitary(expA,[i for i in range(n)])\n",
    "qpe = PhaseEstimation(t, unitary)\n",
    "_generate_circuit_library_visualization(qpe)\n",
    "invqpe=qpe.inverse()\n",
    "#_generate_circuit_library_visualization(invqpe)\n"
   ]
  },
  {
   "cell_type": "code",
   "execution_count": 2,
   "id": "ebdb4c08",
   "metadata": {},
   "outputs": [
    {
     "data": {
      "image/png": "[encoded data removed]",
      "text/plain": [
       "<Figure size 688.597x445.48 with 1 Axes>"
      ]
     },
     "execution_count": 2,
     "metadata": {},
     "output_type": "execute_result"
    }
   ],
   "source": [
    "# create the full circuit\n",
    "qr=QuantumRegister(1+t+n,'q')\n",
    "cr=ClassicalRegister(1,'c')\n",
    "\n",
    "circuit = QuantumCircuit(qr,cr)\n",
    "circuit.initialize(b,[j for j in range(1+t,1+t+n)])\n",
    "circuit.append(qpe,qr[1:])\n",
    "\n",
    "for i in range(2**n):\n",
    "    ctrl_state_i=(format(eigens[i],'0'+str(t)+'b')[::-1])\n",
    "    #print(ctrl_state_i)\n",
    "    cr=RYGate(2*np.arcsin(1/eigens[i])).control(t,ctrl_state=ctrl_state_i)\n",
    "    circuit.append(cr,([j for j in range(1,t+1)]+[0]))\n",
    "\n",
    "circuit.append(invqpe,qr[1:])\n",
    "circuit.draw('mpl')\n"
   ]
  },
  {
   "cell_type": "code",
   "execution_count": 3,
   "id": "a0d051b9",
   "metadata": {},
   "outputs": [
    {
     "name": "stderr",
     "output_type": "stream",
     "text": [
      "<frozen importlib._bootstrap>:228: RuntimeWarning: scipy._lib.messagestream.MessageStream size changed, may indicate binary incompatibility. Expected 56 from C header, got 64 from PyObject\n"
     ]
    }
   ],
   "source": [
    "# result and (optional) city diagram \n",
    "backend = Aer.get_backend('statevector_simulator')\n",
    "job = execute(circuit, backend)\n",
    "result = job.result()\n",
    "outputstate = result.get_statevector(circuit, decimals=4)\n",
    "#plot_state_city(outputstate)\n"
   ]
  },
  {
   "cell_type": "code",
   "execution_count": 4,
   "id": "ca1b606c",
   "metadata": {},
   "outputs": [
    {
     "name": "stdout",
     "output_type": "stream",
     "text": [
      "======================\n",
      "A= [[ 2.11736898 -0.93114402 -0.5907143  -0.51462984]\n",
      " [-0.93114402  1.97970616  0.12573883  0.20790849]\n",
      " [-0.5907143   0.12573883  2.21400889 -0.06273126]\n",
      " [-0.51462984  0.20790849 -0.06273126  3.68891598]]\n",
      "b= [0.32085204 0.67897001 0.07575555 0.65598383]\n",
      "======================\n",
      "HHL solution= [0.4785+0.j 0.5365+0.j 0.1376+0.j 0.2167+0.j]\n",
      "Numpy solution= [0.47852948 0.5365458  0.13755949 0.21668323]\n",
      "======================\n"
     ]
    }
   ],
   "source": [
    "#print(outputstate)\n",
    "# post-select solution components\n",
    "solvec=np.zeros(2**n)*1j\n",
    "\n",
    "for i in range(2**(1+t+n)):\n",
    "    bitstr=format(i,'0'+str(1+t+n)+'b')\n",
    "    #print(bitstr,outputstate[i])\n",
    "    if bitstr[n:]==format(1,'0'+str(t+1)+'b'):\n",
    "        #print('select',bitstr)\n",
    "        #print('add to',int(bitstr[0:n]))\n",
    "        solvec[int(bitstr[0:n],2)]+=outputstate[i]\n",
    "\n",
    "\n",
    "print('======================')\n",
    "print('A=',A)\n",
    "print('b=',b)\n",
    "x=np.linalg.solve(A,b)\n",
    "print('======================')\n",
    "print('HHL solution=',solvec)\n",
    "print('Numpy solution=',x)\n",
    "print('======================')"
   ]
  },
  {
   "cell_type": "code",
   "execution_count": null,
   "id": "7cfdd007",
   "metadata": {},
   "outputs": [],
   "source": []
  },
  {
   "cell_type": "code",
   "execution_count": null,
   "id": "da9197f2",
   "metadata": {},
   "outputs": [],
   "source": []
  },
  {
   "cell_type": "code",
   "execution_count": null,
   "id": "71971997",
   "metadata": {},
   "outputs": [],
   "source": []
  }
 ],
 "metadata": {
  "kernelspec": {
   "display_name": "Python 3 (ipykernel)",
   "language": "python",
   "name": "python3"
  },
  "language_info": {
   "codemirror_mode": {
    "name": "ipython",
    "version": 3
   },
   "file_extension": ".py",
   "mimetype": "text/x-python",
   "name": "python",
   "nbconvert_exporter": "python",
   "pygments_lexer": "ipython3",
   "version": "3.9.7"
  }
 },
 "nbformat": 4,
 "nbformat_minor": 5
}
