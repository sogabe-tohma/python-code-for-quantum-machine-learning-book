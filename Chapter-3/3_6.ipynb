{
 "cells": [
  {
   "cell_type": "code",
   "execution_count": 1,
   "id": "b9ab9a95",
   "metadata": {},
   "outputs": [
    {
     "name": "stderr",
     "output_type": "stream",
     "text": [
      "<frozen importlib._bootstrap>:228: RuntimeWarning: scipy._lib.messagestream.MessageStream size changed, may indicate binary incompatibility. Expected 56 from C header, got 64 from PyObject\n"
     ]
    }
   ],
   "source": [
    "# 3.6 quantum kernel based svm\n",
    "import numpy as np\n",
    "from qiskit import *\n",
    "%matplotlib inline\n",
    "from math import pi\n",
    "import matplotlib.pyplot as plt\n",
    "from sklearn import svm"
   ]
  },
  {
   "cell_type": "code",
   "execution_count": 2,
   "id": "9363d55d",
   "metadata": {},
   "outputs": [],
   "source": [
    "# define quantum kernels\n",
    "def qckernel(x,y):\n",
    "    \n",
    "    n=len(x)\n",
    "    qr=QuantumRegister(n,'q')\n",
    "    cr=ClassicalRegister(n,'c')\n",
    "\n",
    "    circuit = QuantumCircuit(qr,cr)\n",
    "    for i in range(n):\n",
    "        circuit.ry(pi*x[i],i)\n",
    "        circuit.ry(-pi*y[i],i)\n",
    "    circuit.measure(range(n),range(n))\n",
    "    \n",
    "    backend = Aer.get_backend('statevector_simulator')\n",
    "    job = execute(circuit, backend, shots=nshots)\n",
    "    result = job.result()\n",
    "    counts = result.get_counts(circuit)\n",
    "    zerostr=format(0,'0'+str(n)+'b')    \n",
    "    try:\n",
    "        p=(counts[zerostr])/nshots\n",
    "    except:\n",
    "        p=0.\n",
    "    \n",
    "    return p\n",
    "\n",
    "\n",
    "def qckernelmat(Xmat,Ymat):\n",
    "    (n_samples,n_features)=Xmat.shape\n",
    "    n_predict=Ymat.shape[0]\n",
    "    Kmat=np.zeros((n_samples,n_predict))\n",
    "    for i in range(n_samples):\n",
    "        for j in range(n_predict):\n",
    "            Kmat[i,j]=qckernel(Xmat[i,:],Ymat[j,:])\n",
    "    return Kmat"
   ]
  },
  {
   "cell_type": "code",
   "execution_count": 3,
   "id": "ebdb4c08",
   "metadata": {},
   "outputs": [
    {
     "name": "stdout",
     "output_type": "stream",
     "text": [
      "X= [[ 0.40867651  0.58903694]\n",
      " [ 0.87821081  0.59657006]\n",
      " [ 0.53323543  0.45718951]\n",
      " [ 0.11282755  0.69731586]\n",
      " [-0.37352051 -0.97168903]\n",
      " [-0.32267157 -0.44386583]\n",
      " [-0.01651035 -0.47165848]\n",
      " [-0.74845499 -0.18133856]]\n",
      "Y= [-1, -1, -1, -1, 1, 1, 1, 1]\n"
     ]
    },
    {
     "data": {
      "text/plain": [
       "SVC(kernel=<function qckernelmat at 0x7ff77e100310>)"
      ]
     },
     "execution_count": 3,
     "metadata": {},
     "output_type": "execute_result"
    }
   ],
   "source": [
    "# number of shots for quantum simulator\n",
    "nshots=100\n",
    "\n",
    "# generate some data\n",
    "ndata=8\n",
    "\n",
    "# make data\n",
    "Y = [-1] * int(ndata/2) + [1] * int(ndata/2)\n",
    "\n",
    "X=0.5*np.ones((ndata,2))\n",
    "X[int(ndata/2):]=-X[int(ndata/2):]\n",
    "X=X+1.0*(np.random.rand(ndata,2)-0.5)\n",
    "\n",
    "print('X=',X)\n",
    "print('Y=',Y)\n",
    "\n",
    "# learning\n",
    "clf = svm.SVC(kernel=qckernelmat)\n",
    "clf.fit(X, Y)\n",
    "\n"
   ]
  },
  {
   "cell_type": "code",
   "execution_count": 4,
   "id": "a0d051b9",
   "metadata": {},
   "outputs": [],
   "source": [
    "# calculate decision boundary\n",
    "x_min = -1.\n",
    "x_max = 1.\n",
    "y_min = -1.\n",
    "y_max = 1.\n",
    "\n",
    "XX, YY = np.mgrid[x_min:x_max:10j, y_min:y_max:10j]\n",
    "Z = clf.decision_function(np.c_[XX.flatten(), YY.flatten()])\n"
   ]
  },
  {
   "cell_type": "code",
   "execution_count": 5,
   "id": "2295daec",
   "metadata": {},
   "outputs": [
    {
     "data": {
      "image/png": "[encoded data removed]",
      "text/plain": [
       "<Figure size 360x360 with 1 Axes>"
      ]
     },
     "metadata": {
      "needs_background": "light"
     },
     "output_type": "display_data"
    }
   ],
   "source": [
    "# plot the result\n",
    "plt.figure(figsize=(5,5))\n",
    "\n",
    "Z = Z.reshape(XX.shape)\n",
    "plt.pcolormesh(XX, YY, Z > 0, cmap='tab20', shading='auto')\n",
    "\n",
    "plt.scatter(X[:int(ndata/2), 0], X[:int(ndata/2), 1], c='k', marker='o', s=50)\n",
    "plt.scatter(X[int(ndata/2):, 0], X[int(ndata/2):, 1], c='k', marker='x', s=50)\n",
    "\n",
    "plt.xlim(x_min, x_max)\n",
    "plt.ylim(y_min, y_max)\n",
    "\n",
    "plt.show()\n"
   ]
  },
  {
   "cell_type": "code",
   "execution_count": null,
   "id": "70a24192",
   "metadata": {},
   "outputs": [],
   "source": []
  }
 ],
 "metadata": {
  "kernelspec": {
   "display_name": "Python 3 (ipykernel)",
   "language": "python",
   "name": "python3"
  },
  "language_info": {
   "codemirror_mode": {
    "name": "ipython",
    "version": 3
   },
   "file_extension": ".py",
   "mimetype": "text/x-python",
   "name": "python",
   "nbconvert_exporter": "python",
   "pygments_lexer": "ipython3",
   "version": "3.9.7"
  }
 },
 "nbformat": 4,
 "nbformat_minor": 5
}
