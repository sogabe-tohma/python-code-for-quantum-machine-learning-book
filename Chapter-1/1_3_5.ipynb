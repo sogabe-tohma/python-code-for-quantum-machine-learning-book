{
 "cells": [
  {
   "cell_type": "code",
   "execution_count": 1,
   "id": "a29b3308",
   "metadata": {},
   "outputs": [
    {
     "data": {
      "image/png": "[encoded data removed]",
      "text/plain": [
       "<Figure size 628.252x204.68 with 1 Axes>"
      ]
     },
     "execution_count": 1,
     "metadata": {},
     "output_type": "execute_result"
    }
   ],
   "source": [
    "# 1.3.5. Grover search\n",
    "import numpy as np\n",
    "from math import pi, sqrt\n",
    "from qiskit import *\n",
    "%matplotlib inline\n",
    "from qiskit.visualization import plot_state_city\n",
    "from qiskit.visualization import plot_histogram\n",
    "\n",
    "# define grover diffusion operator\n",
    "def diffusion(circuit): \n",
    "    for i in range(n):\n",
    "        circuit.h(i)\n",
    "        circuit.x(i)\n",
    "    circuit.mcp(pi,[k for k in range(n-1)],n-1)\n",
    "    for i in range(n):\n",
    "        circuit.x(i)\n",
    "        circuit.h(i)\n",
    "\n",
    "# define oracle for all-one state\n",
    "def ua(circuit):\n",
    "    circuit.mcp(pi,[k for k in range(n-1)],n-1)\n",
    "\n",
    "# 2 qubit example\n",
    "n=2\n",
    "T=int(pi/4*sqrt(2**n))\n",
    "\n",
    "# initialization \n",
    "circuit = QuantumCircuit(n,n)\n",
    "\n",
    "for i in range(n):\n",
    "    circuit.h(i)\n",
    "\n",
    "# grover iteration\n",
    "for t in range(T):\n",
    "    ua(circuit)\n",
    "    diffusion(circuit)\n",
    "    \n",
    "# measurement\n",
    "circuit.measure(range(n),range(n))\n",
    "circuit.draw('mpl')\n"
   ]
  },
  {
   "cell_type": "code",
   "execution_count": null,
   "id": "a0d051b9",
   "metadata": {},
   "outputs": [],
   "source": []
  },
  {
   "cell_type": "code",
   "execution_count": null,
   "id": "ca1b606c",
   "metadata": {},
   "outputs": [],
   "source": [
    "\n"
   ]
  },
  {
   "cell_type": "code",
   "execution_count": 2,
   "id": "7cfdd007",
   "metadata": {},
   "outputs": [
    {
     "name": "stderr",
     "output_type": "stream",
     "text": [
      "<frozen importlib._bootstrap>:228: RuntimeWarning: scipy._lib.messagestream.MessageStream size changed, may indicate binary incompatibility. Expected 56 from C header, got 64 from PyObject\n"
     ]
    },
    {
     "data": {
      "image/png": "[encoded data removed]",
      "text/plain": [
       "<Figure size 504x360 with 1 Axes>"
      ]
     },
     "execution_count": 2,
     "metadata": {},
     "output_type": "execute_result"
    }
   ],
   "source": [
    "# histogram\n",
    "backend_sim = Aer.get_backend('qasm_simulator')\n",
    "job_sim = execute(circuit, backend_sim, shots=1024)\n",
    "result_sim = job_sim.result()\n",
    "counts = result_sim.get_counts(circuit)\n",
    "plot_histogram(counts)"
   ]
  }
 ],
 "metadata": {
  "kernelspec": {
   "display_name": "Python 3 (ipykernel)",
   "language": "python",
   "name": "python3"
  },
  "language_info": {
   "codemirror_mode": {
    "name": "ipython",
    "version": 3
   },
   "file_extension": ".py",
   "mimetype": "text/x-python",
   "name": "python",
   "nbconvert_exporter": "python",
   "pygments_lexer": "ipython3",
   "version": "3.9.7"
  }
 },
 "nbformat": 4,
 "nbformat_minor": 5
}
