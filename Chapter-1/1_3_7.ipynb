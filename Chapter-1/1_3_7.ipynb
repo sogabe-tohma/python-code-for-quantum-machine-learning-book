{
 "cells": [
  {
   "cell_type": "code",
   "execution_count": 1,
   "id": "a29b3308",
   "metadata": {},
   "outputs": [],
   "source": [
    "# 1.3.7. CHSH\n",
    "import numpy as np\n",
    "from qiskit import *\n",
    "%matplotlib inline\n",
    "from math import pi\n",
    "\n",
    "def chsh(string,theta):\n",
    "    circuit = QuantumCircuit(2,2)\n",
    "    circuit.h(0)\n",
    "    circuit.cx(0, 1)\n",
    "    circuit.ry(theta,1)\n",
    "    for i in range(2):\n",
    "        s=int(string[i])\n",
    "        if s:\n",
    "            circuit.h(i)\n",
    "    circuit.measure(range(2),range(2))\n",
    "    #circuit.draw('mpl')\n",
    "    \n",
    "    backend_sim = Aer.get_backend('qasm_simulator')\n",
    "    job_sim = execute(circuit, backend_sim, shots=nshots)\n",
    "    result_sim = job_sim.result()\n",
    "    counts = result_sim.get_counts(circuit)\n",
    "    \n",
    "    return (counts['00']-counts['01']-counts['10']+counts['11'])/nshots\n"
   ]
  },
  {
   "cell_type": "code",
   "execution_count": 2,
   "id": "a0d051b9",
   "metadata": {},
   "outputs": [
    {
     "name": "stdout",
     "output_type": "stream",
     "text": [
      "[ 0.70410156  0.70214844 -0.70703125  0.70507812]\n",
      "chsh violation <ZZ>+<ZX>-<XZ>+<XX>= 2.818359375\n"
     ]
    },
    {
     "name": "stderr",
     "output_type": "stream",
     "text": [
      "<frozen importlib._bootstrap>:228: RuntimeWarning: scipy._lib.messagestream.MessageStream size changed, may indicate binary incompatibility. Expected 56 from C header, got 64 from PyObject\n"
     ]
    }
   ],
   "source": [
    "theta=pi/4\n",
    "\n",
    "nshots=2048\n",
    "\n",
    "c=np.zeros(4)\n",
    "string='00'\n",
    "c[0]=chsh(string,theta)\n",
    "string='01'\n",
    "c[1]=chsh(string,theta)\n",
    "string='10'\n",
    "c[2]=chsh(string,theta)\n",
    "string='11'\n",
    "c[3]=chsh(string,theta)\n",
    "\n",
    "print(c)\n",
    "\n",
    "print('chsh violation <ZZ>+<ZX>-<XZ>+<XX>=',c[0]+c[1]-c[2]+c[3])\n"
   ]
  },
  {
   "cell_type": "code",
   "execution_count": null,
   "id": "ca1b606c",
   "metadata": {},
   "outputs": [],
   "source": []
  },
  {
   "cell_type": "code",
   "execution_count": null,
   "id": "7cfdd007",
   "metadata": {},
   "outputs": [],
   "source": []
  },
  {
   "cell_type": "code",
   "execution_count": null,
   "id": "c5587454",
   "metadata": {},
   "outputs": [],
   "source": []
  }
 ],
 "metadata": {
  "kernelspec": {
   "display_name": "Python 3 (ipykernel)",
   "language": "python",
   "name": "python3"
  },
  "language_info": {
   "codemirror_mode": {
    "name": "ipython",
    "version": 3
   },
   "file_extension": ".py",
   "mimetype": "text/x-python",
   "name": "python",
   "nbconvert_exporter": "python",
   "pygments_lexer": "ipython3",
   "version": "3.9.7"
  }
 },
 "nbformat": 4,
 "nbformat_minor": 5
}
